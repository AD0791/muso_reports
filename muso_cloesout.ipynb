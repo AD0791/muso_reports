{
 "cells": [
  {
   "cell_type": "markdown",
   "metadata": {},
   "source": [
    "# MUSO Groups Close_OUT Reports\n",
    "\n",
    "---\n",
    "\n",
    "Per groups:\n",
    "\n",
    "1. date graduation is valid and in the reporting.\n",
    "2. number of member.\n",
    "3. number of groups\n",
    "5. number of indirect beneficiaires."
   ]
  },
  {
   "cell_type": "markdown",
   "metadata": {},
   "source": [
    "## "
   ]
  },
  {
   "cell_type": "markdown",
   "metadata": {},
   "source": [
    "## Preliminaries"
   ]
  },
  {
   "cell_type": "code",
   "execution_count": 1,
   "metadata": {},
   "outputs": [],
   "source": [
    "from pandas import read_sql_query, read_excel\n",
    "import numpy as np\n",
    "from datetime import datetime\n",
    "from dotenv import load_dotenv\n",
    "from decouple import config\n",
    "from sqlalchemy import create_engine, text\n",
    "from dateutil.parser import parse\n",
    "from selenium import webdriver\n",
    "from webdriver_manager.chrome import ChromeDriverManager\n",
    "from selenium.webdriver.common.by import By\n",
    "from IPython.core.interactiveshell import InteractiveShell\n",
    "\n",
    "\n",
    "\n",
    "\n",
    "\n",
    "InteractiveShell.ast_node_interactivity = 'all'\n",
    "\n",
    "load_dotenv()\n",
    "USER= config('USRCaris')\n",
    "PASSWORD= config('PASSCaris')\n",
    "HOSTNAME= config('HOSTCaris')\n",
    "DBNAME= config('DBCaris')\n",
    "\n"
   ]
  },
  {
   "cell_type": "code",
   "execution_count": 2,
   "metadata": {},
   "outputs": [],
   "source": [
    "engine = create_engine(f\"mysql+pymysql://{USER}:{PASSWORD}@{HOSTNAME}/{DBNAME}\")"
   ]
  },
  {
   "cell_type": "code",
   "execution_count": 3,
   "metadata": {},
   "outputs": [],
   "source": [
    "# Non-applicable \n",
    "MHC22 = f\"\"\"\n",
    "SELECT \n",
    "    b.caseid, mhc22.*\n",
    "FROM\n",
    "    (SELECT \n",
    "        *\n",
    "    FROM\n",
    "        caris_db.view_muso_household_report\n",
    "    WHERE\n",
    "        (!ISNULL(indice_householdcount)\n",
    "            OR (is_household_applicable = 'yes'))) mhc22\n",
    "        LEFT JOIN\n",
    "    (SELECT \n",
    "        patient_code, muso_case_id AS caseid\n",
    "    FROM\n",
    "        caris_db.patient) b ON mhc22.patient_code = b.patient_code\n",
    "\"\"\"\n",
    "\n",
    "\n",
    "\n",
    "# applicable \n",
    "NOMHC22 = f\"\"\"\n",
    "SELECT \n",
    "    b.caseid, nomhc22.*\n",
    "FROM\n",
    "    (SELECT \n",
    "        *\n",
    "    FROM\n",
    "        caris_db.view_muso_household_report\n",
    "    WHERE\n",
    "        (ISNULL(indice_householdcount)\n",
    "            AND (is_household_applicable = 'no'\n",
    "            OR ISNULL(is_household_applicable)))) nomhc22\n",
    "        LEFT JOIN\n",
    "    (SELECT \n",
    "        patient_code, muso_case_id AS caseid\n",
    "    FROM\n",
    "        caris_db.patient) b ON nomhc22.patient_code = b.patient_code\n",
    "\"\"\"\n",
    "\n",
    "MUSO_HOUSEHOLD_22 = f\"\"\"\n",
    "SELECT \n",
    "    b.caseid, mh22.*\n",
    "FROM\n",
    "    (SELECT \n",
    "        *\n",
    "    FROM\n",
    "        caris_db.muso_household_2022) mh22\n",
    "        LEFT JOIN\n",
    "    (SELECT \n",
    "        id, muso_case_id AS caseid\n",
    "    FROM\n",
    "        caris_db.patient) b ON mh22.id_patient = b.id\n",
    "\"\"\""
   ]
  },
  {
   "cell_type": "code",
   "execution_count": 4,
   "metadata": {},
   "outputs": [],
   "source": [
    "mhc22 = read_sql_query(text(MHC22),engine.connect(),parse_dates=True)\n",
    "nomhc22 = read_sql_query(text(NOMHC22),engine.connect(),parse_dates=True)\n",
    "mh22 = read_sql_query(text(MUSO_HOUSEHOLD_22),engine.connect(),parse_dates=True)"
   ]
  },
  {
   "cell_type": "code",
   "execution_count": 5,
   "metadata": {},
   "outputs": [],
   "source": [
    "engine.dispose()"
   ]
  },
  {
   "cell_type": "code",
   "execution_count": 6,
   "metadata": {},
   "outputs": [],
   "source": [
    "#load_dotenv('./id_cc.env')\n",
    "email = config('COMCARE_EMAIL')\n",
    "password_cc = config('COMCARE_PASSWORD')\n",
    "\n",
    "driver = webdriver.Chrome()\n",
    "driver.implicitly_wait(1000)\n",
    "\n",
    "#Creating login function\n",
    "def muso_beneficiaries():\n",
    "    driver.get(\n",
    "        'https://www.commcarehq.org/a/caris-test/data/export/custom/new/case/download/91fe1e2fc809dfd56a29bfce97cc9d15/'\n",
    "    )\n",
    "    #driver.find_element_by_xpath('//*[@id=\"id_auth-username\"]').send_keys(email)\n",
    "    driver.find_element(By.XPATH,'//*[@id=\"id_auth-username\"]').send_keys(email)\n",
    "    #driver.find_element_by_xpath('//*[@id=\"id_auth-password\"]').send_keys(password_cc)\n",
    "    driver.find_element(By.XPATH,'//*[@id=\"id_auth-password\"]').send_keys(password_cc)\n",
    "    driver.find_element(By.CSS_SELECTOR,'button[type=submit]').click()\n",
    "\n",
    "#Muso beneficiaries\n",
    "muso_beneficiaries()\n",
    "\n",
    "#Download the database \"All gardens\"\n",
    "#driver.find_element_by_xpath('//*[@id=\"download-export-form\"]/form/div[2]/div/div[2]/div[1]/button/span[1]').click()\n",
    "driver.find_element(By.XPATH,\"//*[@id='download-export-form']/form/div[2]/div/div[2]/div[1]/button/span[1]\").click()\n",
    "#driver.find_element_by_xpath('//*[@id=\"download-progress\"]/div/div/div[2]/div[1]/form/a/span[1]').click()    \n",
    "driver.find_element(By.XPATH,\"//*[@id='download-progress']/div/div/div[2]/div[1]/form/a/span[1]\").click()    \n",
    "\n",
    "#-----------------------------------------------------------------------------------------------------------------------\n",
    "\n",
    "#Household count\n",
    "def muso_groups():\n",
    "    driver.get(\n",
    "        'https://www.commcarehq.org/a/caris-test/data/export/custom/new/case/download/91fe1e2fc809dfd56a29bfce973b4c0d/'\n",
    "    )\n",
    "    \n",
    "muso_groups()\n",
    "\n",
    "#Download the database \"Household count\"\n",
    "#driver.find_element_by_xpath('//*[@id=\"download-export-form\"]/form/div[2]/div/div[2]/div[1]/button/span[1]').click()\n",
    "driver.find_element(By.XPATH,'//*[@id=\"download-export-form\"]/form/div[2]/div/div[2]/div[1]/button/span[1]').click()\n",
    "#driver.find_element_by_xpath('//*[@id=\"download-progress\"]/div/div/div[2]/div[1]/form/a/span[1]').click()\n",
    "driver.find_element(By.XPATH,'//*[@id=\"download-progress\"]/div/div/div[2]/div[1]/form/a/span[1]').click()"
   ]
  },
  {
   "cell_type": "code",
   "execution_count": 7,
   "metadata": {},
   "outputs": [],
   "source": [
    "muso_benef = read_excel(f\"~/Downloads/muso_beneficiaries {str(datetime.today().strftime('%Y-%m-%d'))}.xlsx\", sheet_name = 'Cases')\n",
    "muso_group = read_excel(f\"~/Downloads/muso_groupes {str(datetime.today().strftime('%Y-%m-%d'))}.xlsx\")"
   ]
  },
  {
   "cell_type": "markdown",
   "metadata": {},
   "source": [
    "## Groupes a desactiver\n"
   ]
  },
  {
   "cell_type": "code",
   "execution_count": 8,
   "metadata": {},
   "outputs": [],
   "source": [
    "groupadesactiver = read_excel(\"./groupe_adesactiver_muso/groupes_adesactiver_finale.xlsx\", sheet_name=1)"
   ]
  },
  {
   "cell_type": "code",
   "execution_count": 9,
   "metadata": {},
   "outputs": [
    {
     "data": {
      "text/plain": [
       "Index(['Date de graduation (YYYY-MM-DD)', 'Departement', 'Commune',\n",
       "       'Nom du groupe', 'numero_groupe', 'OFFICE', 'reason_currated',\n",
       "       'Cause/Raison', 'caseid_grpes', 'effectively_closed', 'has_dated',\n",
       "       'open_weird'],\n",
       "      dtype='object')"
      ]
     },
     "execution_count": 9,
     "metadata": {},
     "output_type": "execute_result"
    }
   ],
   "source": [
    "groupadesactiver.columns"
   ]
  },
  {
   "cell_type": "code",
   "execution_count": 10,
   "metadata": {},
   "outputs": [],
   "source": [
    "groupadesactiver.rename(\n",
    "    columns={\"caseid_grpes\":\"caseid_group\"},\n",
    "    inplace=True\n",
    ")"
   ]
  },
  {
   "cell_type": "code",
   "execution_count": 11,
   "metadata": {},
   "outputs": [],
   "source": [
    "gad = groupadesactiver[['caseid_group','OFFICE','has_dated']]"
   ]
  },
  {
   "cell_type": "code",
   "execution_count": 12,
   "metadata": {},
   "outputs": [
    {
     "data": {
      "text/html": [
       "<div>\n",
       "<style scoped>\n",
       "    .dataframe tbody tr th:only-of-type {\n",
       "        vertical-align: middle;\n",
       "    }\n",
       "\n",
       "    .dataframe tbody tr th {\n",
       "        vertical-align: top;\n",
       "    }\n",
       "\n",
       "    .dataframe thead th {\n",
       "        text-align: right;\n",
       "    }\n",
       "</style>\n",
       "<table border=\"1\" class=\"dataframe\">\n",
       "  <thead>\n",
       "    <tr style=\"text-align: right;\">\n",
       "      <th></th>\n",
       "      <th>caseid_group</th>\n",
       "      <th>OFFICE</th>\n",
       "      <th>has_dated</th>\n",
       "    </tr>\n",
       "  </thead>\n",
       "  <tbody>\n",
       "    <tr>\n",
       "      <th>0</th>\n",
       "      <td>fff1657eb0334ae982af607bf9c0df13</td>\n",
       "      <td>GON</td>\n",
       "      <td>no</td>\n",
       "    </tr>\n",
       "    <tr>\n",
       "      <th>1</th>\n",
       "      <td>fe8147bcf49d4db08032116600e3a6e8</td>\n",
       "      <td>CAY</td>\n",
       "      <td>yes</td>\n",
       "    </tr>\n",
       "    <tr>\n",
       "      <th>2</th>\n",
       "      <td>fe2b4775-8e9a-488f-9bef-14d1a09fc122</td>\n",
       "      <td>JER</td>\n",
       "      <td>yes</td>\n",
       "    </tr>\n",
       "    <tr>\n",
       "      <th>3</th>\n",
       "      <td>fd36188df2a84b96bb092cafb8f8c8d0</td>\n",
       "      <td>CAY</td>\n",
       "      <td>yes</td>\n",
       "    </tr>\n",
       "    <tr>\n",
       "      <th>4</th>\n",
       "      <td>fc2cfd35-e89e-4366-94a2-4ffb1db22fbe</td>\n",
       "      <td>PAP</td>\n",
       "      <td>no</td>\n",
       "    </tr>\n",
       "    <tr>\n",
       "      <th>...</th>\n",
       "      <td>...</td>\n",
       "      <td>...</td>\n",
       "      <td>...</td>\n",
       "    </tr>\n",
       "    <tr>\n",
       "      <th>126</th>\n",
       "      <td>032c2252-06d9-44c0-b2e0-45821b67333f</td>\n",
       "      <td>CAY</td>\n",
       "      <td>yes</td>\n",
       "    </tr>\n",
       "    <tr>\n",
       "      <th>127</th>\n",
       "      <td>02bb70e51c9241218ca77c548874f52e</td>\n",
       "      <td>CAP</td>\n",
       "      <td>no</td>\n",
       "    </tr>\n",
       "    <tr>\n",
       "      <th>128</th>\n",
       "      <td>014181e8df164f8e89ab0a5f3125d606</td>\n",
       "      <td>CAY</td>\n",
       "      <td>no</td>\n",
       "    </tr>\n",
       "    <tr>\n",
       "      <th>129</th>\n",
       "      <td>012d6d9174da449abc1d722864954394</td>\n",
       "      <td>GON</td>\n",
       "      <td>no</td>\n",
       "    </tr>\n",
       "    <tr>\n",
       "      <th>130</th>\n",
       "      <td>00f56ffbcb244104bb8ed31bf3d600c0</td>\n",
       "      <td>CAY</td>\n",
       "      <td>yes</td>\n",
       "    </tr>\n",
       "  </tbody>\n",
       "</table>\n",
       "<p>131 rows × 3 columns</p>\n",
       "</div>"
      ],
      "text/plain": [
       "                             caseid_group OFFICE has_dated\n",
       "0        fff1657eb0334ae982af607bf9c0df13    GON        no\n",
       "1        fe8147bcf49d4db08032116600e3a6e8    CAY       yes\n",
       "2    fe2b4775-8e9a-488f-9bef-14d1a09fc122    JER       yes\n",
       "3        fd36188df2a84b96bb092cafb8f8c8d0    CAY       yes\n",
       "4    fc2cfd35-e89e-4366-94a2-4ffb1db22fbe    PAP        no\n",
       "..                                    ...    ...       ...\n",
       "126  032c2252-06d9-44c0-b2e0-45821b67333f    CAY       yes\n",
       "127      02bb70e51c9241218ca77c548874f52e    CAP        no\n",
       "128      014181e8df164f8e89ab0a5f3125d606    CAY        no\n",
       "129      012d6d9174da449abc1d722864954394    GON        no\n",
       "130      00f56ffbcb244104bb8ed31bf3d600c0    CAY       yes\n",
       "\n",
       "[131 rows x 3 columns]"
      ]
     },
     "execution_count": 12,
     "metadata": {},
     "output_type": "execute_result"
    }
   ],
   "source": [
    "gad"
   ]
  },
  {
   "cell_type": "markdown",
   "metadata": {},
   "source": [
    "## groups actifs et leurs membre"
   ]
  },
  {
   "cell_type": "code",
   "execution_count": 13,
   "metadata": {},
   "outputs": [],
   "source": [
    "muso_benef.rename(columns = {'indices.muso_groupes': 'caseid_group'}, inplace = True)"
   ]
  },
  {
   "cell_type": "code",
   "execution_count": 14,
   "metadata": {},
   "outputs": [],
   "source": [
    "ben_muso = muso_benef[['closed','caseid', 'caseid_group','why_remove_the_member']]"
   ]
  },
  {
   "cell_type": "code",
   "execution_count": 15,
   "metadata": {},
   "outputs": [],
   "source": [
    "muso_group.rename(columns = {'is_graduated': 'graduated_group',\n",
    "                            'is_inactive': 'inactive_group',\n",
    "                            'closed': 'closed_group',\n",
    "                            'caseid': 'caseid_group',\n",
    "                            'office': 'office_group'}, inplace = True)"
   ]
  },
  {
   "cell_type": "code",
   "execution_count": 16,
   "metadata": {},
   "outputs": [],
   "source": [
    "group_info = muso_group[['caseid_group', 'office_name', 'office_group', 'graduated_group', 'inactive_group', 'closed_group']]"
   ]
  },
  {
   "cell_type": "code",
   "execution_count": 17,
   "metadata": {},
   "outputs": [
    {
     "data": {
      "text/plain": [
       "(2272, 6)"
      ]
     },
     "execution_count": 17,
     "metadata": {},
     "output_type": "execute_result"
    }
   ],
   "source": [
    "group_info.shape"
   ]
  },
  {
   "cell_type": "code",
   "execution_count": 18,
   "metadata": {},
   "outputs": [
    {
     "data": {
      "text/plain": [
       "(54080, 4)"
      ]
     },
     "execution_count": 18,
     "metadata": {},
     "output_type": "execute_result"
    }
   ],
   "source": [
    "ben_muso.shape"
   ]
  },
  {
   "cell_type": "code",
   "execution_count": 19,
   "metadata": {},
   "outputs": [],
   "source": [
    "ben_with_group_info = ben_muso.merge(group_info,on=\"caseid_group\",how=\"left\")"
   ]
  },
  {
   "cell_type": "code",
   "execution_count": 20,
   "metadata": {},
   "outputs": [
    {
     "data": {
      "text/plain": [
       "(54080, 9)"
      ]
     },
     "execution_count": 20,
     "metadata": {},
     "output_type": "execute_result"
    }
   ],
   "source": [
    "ben_with_group_info.shape"
   ]
  },
  {
   "cell_type": "markdown",
   "metadata": {},
   "source": [
    "### groupe actif et les benficiaires"
   ]
  },
  {
   "cell_type": "code",
   "execution_count": 21,
   "metadata": {},
   "outputs": [
    {
     "data": {
      "text/plain": [
       "(25155, 9)"
      ]
     },
     "execution_count": 21,
     "metadata": {},
     "output_type": "execute_result"
    }
   ],
   "source": [
    "active_goup_and_ben = ben_with_group_info[\n",
    "    (ben_with_group_info['why_remove_the_member'] == '---') & \n",
    "    (ben_with_group_info['graduated_group'] != '1') &\n",
    "    (ben_with_group_info['inactive_group'] != '1') & \n",
    "    (ben_with_group_info['closed_group'] != True)\n",
    "]\n",
    "active_goup_and_ben.shape"
   ]
  },
  {
   "cell_type": "code",
   "execution_count": 22,
   "metadata": {},
   "outputs": [
    {
     "data": {
      "text/plain": [
       "(1061, 57)"
      ]
     },
     "execution_count": 22,
     "metadata": {},
     "output_type": "execute_result"
    }
   ],
   "source": [
    "active_musogroup = muso_group[\n",
    "    (muso_group['graduated_group'] != '1') &\n",
    "    (muso_group['inactive_group'] != '1') & \n",
    "    (muso_group['closed_group'] != True)\n",
    "]\n",
    "active_musogroup.shape"
   ]
  },
  {
   "cell_type": "markdown",
   "metadata": {},
   "source": [
    "# how many groups"
   ]
  },
  {
   "cell_type": "code",
   "execution_count": 23,
   "metadata": {},
   "outputs": [
    {
     "data": {
      "text/plain": [
       "(131, 3)"
      ]
     },
     "execution_count": 23,
     "metadata": {},
     "output_type": "execute_result"
    },
    {
     "data": {
      "text/plain": [
       "Index(['caseid_group', 'OFFICE', 'has_dated'], dtype='object')"
      ]
     },
     "execution_count": 23,
     "metadata": {},
     "output_type": "execute_result"
    }
   ],
   "source": [
    "gad.shape\n",
    "gad.columns"
   ]
  },
  {
   "cell_type": "code",
   "execution_count": 24,
   "metadata": {},
   "outputs": [
    {
     "data": {
      "text/plain": [
       "(131, 57)"
      ]
     },
     "execution_count": 24,
     "metadata": {},
     "output_type": "execute_result"
    }
   ],
   "source": [
    "muso_group[muso_group.caseid_group.isin(gad.caseid_group)].shape\n",
    "#active_musogroup[active_musogroup.caseid_group.isin(gad.caseid_group)].shape"
   ]
  },
  {
   "cell_type": "markdown",
   "metadata": {},
   "source": [
    "### how many beneficiaires"
   ]
  },
  {
   "cell_type": "code",
   "execution_count": 25,
   "metadata": {},
   "outputs": [
    {
     "data": {
      "text/plain": [
       "(4155, 9)"
      ]
     },
     "execution_count": 25,
     "metadata": {},
     "output_type": "execute_result"
    },
    {
     "data": {
      "text/plain": [
       "(4155, 4)"
      ]
     },
     "execution_count": 25,
     "metadata": {},
     "output_type": "execute_result"
    },
    {
     "data": {
      "text/plain": [
       "(4155, 76)"
      ]
     },
     "execution_count": 25,
     "metadata": {},
     "output_type": "execute_result"
    }
   ],
   "source": [
    "ben_with_group_info[ben_with_group_info.caseid_group.isin(gad.caseid_group)].shape\n",
    "ben_muso[ben_muso.caseid_group.isin(gad.caseid_group)].shape\n",
    "muso_benef[muso_benef.caseid_group.isin(gad.caseid_group)].shape\n"
   ]
  },
  {
   "cell_type": "markdown",
   "metadata": {},
   "source": [
    "### How many indirect"
   ]
  },
  {
   "cell_type": "code",
   "execution_count": 26,
   "metadata": {},
   "outputs": [],
   "source": [
    "future_lost_ben = ben_muso[ben_muso.caseid_group.isin(gad.caseid_group)]\n",
    "flb = muso_benef[muso_benef.caseid_group.isin(gad.caseid_group)]"
   ]
  },
  {
   "cell_type": "code",
   "execution_count": 27,
   "metadata": {},
   "outputs": [
    {
     "data": {
      "text/plain": [
       "(6360, 15)"
      ]
     },
     "execution_count": 27,
     "metadata": {},
     "output_type": "execute_result"
    },
    {
     "data": {
      "text/plain": [
       "(6360, 15)"
      ]
     },
     "execution_count": 27,
     "metadata": {},
     "output_type": "execute_result"
    }
   ],
   "source": [
    "mh22[mh22.caseid.isin(flb.caseid)].shape\n",
    "mh22[mh22.caseid.isin(future_lost_ben.caseid)].shape"
   ]
  },
  {
   "cell_type": "code",
   "execution_count": 28,
   "metadata": {},
   "outputs": [],
   "source": [
    "from pandas import DataFrame"
   ]
  },
  {
   "cell_type": "code",
   "execution_count": 29,
   "metadata": {},
   "outputs": [
    {
     "data": {
      "text/html": [
       "<div>\n",
       "<style scoped>\n",
       "    .dataframe tbody tr th:only-of-type {\n",
       "        vertical-align: middle;\n",
       "    }\n",
       "\n",
       "    .dataframe tbody tr th {\n",
       "        vertical-align: top;\n",
       "    }\n",
       "\n",
       "    .dataframe thead th {\n",
       "        text-align: right;\n",
       "    }\n",
       "</style>\n",
       "<table border=\"1\" class=\"dataframe\">\n",
       "  <thead>\n",
       "    <tr style=\"text-align: right;\">\n",
       "      <th></th>\n",
       "      <th>Total</th>\n",
       "    </tr>\n",
       "  </thead>\n",
       "  <tbody>\n",
       "    <tr>\n",
       "      <th>#groupes</th>\n",
       "      <td>131</td>\n",
       "    </tr>\n",
       "    <tr>\n",
       "      <th>#members</th>\n",
       "      <td>4155</td>\n",
       "    </tr>\n",
       "    <tr>\n",
       "      <th>#HC22</th>\n",
       "      <td>6360</td>\n",
       "    </tr>\n",
       "  </tbody>\n",
       "</table>\n",
       "</div>"
      ],
      "text/plain": [
       "          Total\n",
       "#groupes    131\n",
       "#members   4155\n",
       "#HC22      6360"
      ]
     },
     "execution_count": 29,
     "metadata": {},
     "output_type": "execute_result"
    }
   ],
   "source": [
    "DataFrame.from_dict(\n",
    "    {\n",
    "        \"#groupes\": [gad.shape[0]],\n",
    "        \"#members\": [ben_muso[ben_muso.caseid_group.isin(gad.caseid_group)].shape[0]],\n",
    "        \"#HC22\": [mh22[mh22.caseid.isin(future_lost_ben.caseid)].shape[0]],\n",
    "    },\n",
    "    orient=\"index\",\n",
    "    columns=[\"Total\"]\n",
    ")"
   ]
  },
  {
   "cell_type": "code",
   "execution_count": 30,
   "metadata": {},
   "outputs": [],
   "source": [
    "DataFrame.from_dict(\n",
    "    {\n",
    "        \"#groupes\": [gad.shape[0]],\n",
    "        \"#members\": [ben_muso[ben_muso.caseid_group.isin(gad.caseid_group)].shape[0]],\n",
    "        \"#HC22\": [mh22[mh22.caseid.isin(future_lost_ben.caseid)].shape[0]],\n",
    "    },\n",
    "    orient=\"index\",\n",
    "    columns=[\"Total\"]\n",
    ").to_excel('./groupe_adesactiver_muso/resume_gad.xlsx',index=True)"
   ]
  },
  {
   "cell_type": "code",
   "execution_count": 31,
   "metadata": {},
   "outputs": [],
   "source": [
    "driver.quit()\n"
   ]
  }
 ],
 "metadata": {
  "kernelspec": {
   "display_name": "Python 3",
   "language": "python",
   "name": "python3"
  },
  "language_info": {
   "codemirror_mode": {
    "name": "ipython",
    "version": 3
   },
   "file_extension": ".py",
   "mimetype": "text/x-python",
   "name": "python",
   "nbconvert_exporter": "python",
   "pygments_lexer": "ipython3",
   "version": "3.11.2"
  },
  "orig_nbformat": 4
 },
 "nbformat": 4,
 "nbformat_minor": 2
}
