{
 "cells": [
  {
   "cell_type": "markdown",
   "metadata": {},
   "source": [
    "# MUSO Groups Close_OUT Reports\n",
    "\n",
    "---\n",
    "\n",
    "Per groups:\n",
    "\n",
    "1. date graduation is valid and in the reporting.\n",
    "2. number of member.\n",
    "3. number of HC left.\n",
    "4. number of HC_2022.\n",
    "5. number of indirect beneficiaires."
   ]
  },
  {
   "cell_type": "markdown",
   "metadata": {},
   "source": [
    "## "
   ]
  },
  {
   "cell_type": "markdown",
   "metadata": {},
   "source": [
    "## Preliminaries"
   ]
  },
  {
   "cell_type": "code",
   "execution_count": 1,
   "metadata": {},
   "outputs": [],
   "source": [
    "from pandas import read_sql_query, read_excel\n",
    "import numpy as np\n",
    "from datetime import datetime\n",
    "from dotenv import load_dotenv\n",
    "from decouple import config\n",
    "from sqlalchemy import create_engine, text\n",
    "from dateutil.parser import parse\n",
    "from selenium import webdriver\n",
    "from webdriver_manager.chrome import ChromeDriverManager\n",
    "from selenium.webdriver.common.by import By\n",
    "from IPython.core.interactiveshell import InteractiveShell\n",
    "\n",
    "\n",
    "\n",
    "\n",
    "\n",
    "InteractiveShell.ast_node_interactivity = 'all'\n",
    "\n",
    "load_dotenv()\n",
    "USER= config('USRCaris')\n",
    "PASSWORD= config('PASSCaris')\n",
    "HOSTNAME= config('HOSTCaris')\n",
    "DBNAME= config('DBCaris')\n",
    "\n"
   ]
  },
  {
   "cell_type": "code",
   "execution_count": 2,
   "metadata": {},
   "outputs": [],
   "source": [
    "engine = create_engine(f\"mysql+pymysql://{USER}:{PASSWORD}@{HOSTNAME}/{DBNAME}\")"
   ]
  },
  {
   "cell_type": "code",
   "execution_count": 3,
   "metadata": {},
   "outputs": [],
   "source": [
    "# Non-applicable \n",
    "MHC22 = f\"\"\"\n",
    "SELECT \n",
    "    b.caseid, mhc22.*\n",
    "FROM\n",
    "    (SELECT \n",
    "        *\n",
    "    FROM\n",
    "        caris_db.view_muso_household_report\n",
    "    WHERE\n",
    "        (!ISNULL(indice_householdcount)\n",
    "            OR (is_household_applicable = 'yes'))) mhc22\n",
    "        LEFT JOIN\n",
    "    (SELECT \n",
    "        patient_code, muso_case_id AS caseid\n",
    "    FROM\n",
    "        caris_db.patient) b ON mhc22.patient_code = b.patient_code\n",
    "\"\"\"\n",
    "\n",
    "\n",
    "\n",
    "# applicable \n",
    "NOMHC22 = f\"\"\"\n",
    "SELECT \n",
    "    b.caseid, nomhc22.*\n",
    "FROM\n",
    "    (SELECT \n",
    "        *\n",
    "    FROM\n",
    "        caris_db.view_muso_household_report\n",
    "    WHERE\n",
    "        (ISNULL(indice_householdcount)\n",
    "            AND (is_household_applicable = 'no'\n",
    "            OR ISNULL(is_household_applicable)))) nomhc22\n",
    "        LEFT JOIN\n",
    "    (SELECT \n",
    "        patient_code, muso_case_id AS caseid\n",
    "    FROM\n",
    "        caris_db.patient) b ON nomhc22.patient_code = b.patient_code\n",
    "\"\"\"\n",
    "\n",
    "MUSO_HOUSEHOLD_22 = f\"\"\"\n",
    "SELECT \n",
    "    b.caseid, mh22.*\n",
    "FROM\n",
    "    (SELECT \n",
    "        *\n",
    "    FROM\n",
    "        caris_db.muso_household_2022) mh22\n",
    "        LEFT JOIN\n",
    "    (SELECT \n",
    "        id, muso_case_id AS caseid\n",
    "    FROM\n",
    "        caris_db.patient) b ON mh22.id_patient = b.id\n",
    "\"\"\""
   ]
  },
  {
   "cell_type": "code",
   "execution_count": 4,
   "metadata": {},
   "outputs": [],
   "source": [
    "mhc22 = read_sql_query(text(MHC22),engine.connect(),parse_dates=True)\n",
    "nomhc22 = read_sql_query(text(NOMHC22),engine.connect(),parse_dates=True)\n",
    "mh22 = read_sql_query(text(MUSO_HOUSEHOLD_22),engine.connect(),parse_dates=True)"
   ]
  },
  {
   "cell_type": "code",
   "execution_count": 5,
   "metadata": {},
   "outputs": [],
   "source": [
    "engine.dispose()"
   ]
  },
  {
   "cell_type": "code",
   "execution_count": 6,
   "metadata": {},
   "outputs": [],
   "source": [
    "#load_dotenv('./id_cc.env')\n",
    "email = config('COMCARE_EMAIL')\n",
    "password_cc = config('COMCARE_PASSWORD')\n",
    "\n",
    "driver = webdriver.Chrome()\n",
    "driver.implicitly_wait(1000)\n",
    "\n",
    "#Creating login function\n",
    "def muso_beneficiaries():\n",
    "    driver.get(\n",
    "        'https://www.commcarehq.org/a/caris-test/data/export/custom/new/case/download/91fe1e2fc809dfd56a29bfce97cc9d15/'\n",
    "    )\n",
    "    #driver.find_element_by_xpath('//*[@id=\"id_auth-username\"]').send_keys(email)\n",
    "    driver.find_element(By.XPATH,'//*[@id=\"id_auth-username\"]').send_keys(email)\n",
    "    #driver.find_element_by_xpath('//*[@id=\"id_auth-password\"]').send_keys(password_cc)\n",
    "    driver.find_element(By.XPATH,'//*[@id=\"id_auth-password\"]').send_keys(password_cc)\n",
    "    driver.find_element(By.CSS_SELECTOR,'button[type=submit]').click()\n",
    "\n",
    "#Muso beneficiaries\n",
    "muso_beneficiaries()\n",
    "\n",
    "#Download the database \"All gardens\"\n",
    "#driver.find_element_by_xpath('//*[@id=\"download-export-form\"]/form/div[2]/div/div[2]/div[1]/button/span[1]').click()\n",
    "driver.find_element(By.XPATH,\"//*[@id='download-export-form']/form/div[2]/div/div[2]/div[1]/button/span[1]\").click()\n",
    "#driver.find_element_by_xpath('//*[@id=\"download-progress\"]/div/div/div[2]/div[1]/form/a/span[1]').click()    \n",
    "driver.find_element(By.XPATH,\"//*[@id='download-progress']/div/div/div[2]/div[1]/form/a/span[1]\").click()    \n",
    "\n",
    "#-----------------------------------------------------------------------------------------------------------------------\n",
    "\n",
    "#Household count\n",
    "def muso_groups():\n",
    "    driver.get(\n",
    "        'https://www.commcarehq.org/a/caris-test/data/export/custom/new/case/download/91fe1e2fc809dfd56a29bfce973b4c0d/'\n",
    "    )\n",
    "    \n",
    "muso_groups()\n",
    "\n",
    "#Download the database \"Household count\"\n",
    "#driver.find_element_by_xpath('//*[@id=\"download-export-form\"]/form/div[2]/div/div[2]/div[1]/button/span[1]').click()\n",
    "driver.find_element(By.XPATH,'//*[@id=\"download-export-form\"]/form/div[2]/div/div[2]/div[1]/button/span[1]').click()\n",
    "#driver.find_element_by_xpath('//*[@id=\"download-progress\"]/div/div/div[2]/div[1]/form/a/span[1]').click()\n",
    "driver.find_element(By.XPATH,'//*[@id=\"download-progress\"]/div/div/div[2]/div[1]/form/a/span[1]').click()"
   ]
  },
  {
   "cell_type": "code",
   "execution_count": 7,
   "metadata": {},
   "outputs": [],
   "source": [
    "muso_benef = read_excel(f\"~/Downloads/muso_beneficiaries {str(datetime.today().strftime('%Y-%m-%d'))}.xlsx\", sheet_name = 'Cases')\n",
    "muso_group = read_excel(f\"~/Downloads/muso_groupes {str(datetime.today().strftime('%Y-%m-%d'))}.xlsx\")"
   ]
  },
  {
   "cell_type": "markdown",
   "metadata": {},
   "source": [
    "- groups actifs\n",
    "- benef actifs\n",
    "- beneficiaires dans groupes actifs"
   ]
  },
  {
   "cell_type": "code",
   "execution_count": 8,
   "metadata": {},
   "outputs": [
    {
     "data": {
      "text/plain": [
       "Index(['number', 'caseid', 'name', 'gps', 'gps_date', 'cycle_1_start_date',\n",
       "       'is_graduated', 'office', 'graduation_date', 'localite_name',\n",
       "       'cycle_2_start_date', 'commune', 'officer', 'cycle_3_end_date',\n",
       "       'commune_name', 'code', 'cycle_2_end_date', 'cycle_1_end_date',\n",
       "       'inactive_date', 'creation_date', 'meeting_hour', 'officer_name',\n",
       "       'meeting_day', 'formed_by_members_from', 'localite', 'actual_cycle',\n",
       "       'cycle_3_start_date', 'is_inactive', 'closed', 'closed_by_username',\n",
       "       'closed_date', 'last_modified_by_user_username', 'last_modified_date',\n",
       "       'opened_by_username', 'opened_date', 'owner_name', 'case_link',\n",
       "       'case_type', 'closed_by_user_id', 'external_id',\n",
       "       'last_modified_by_user_id', 'opened_by_user_id', 'owner_id',\n",
       "       'server_last_modified_date', 'state', 'office_name', 'owner_id1',\n",
       "       'section', 'section_name', 'departement', 'departement_name', 'adress',\n",
       "       'office_location_id', 'commune_location_id',\n",
       "       'section_communale_location_id', 'departement_location_id',\n",
       "       'owner_id2'],\n",
       "      dtype='object')"
      ]
     },
     "execution_count": 8,
     "metadata": {},
     "output_type": "execute_result"
    }
   ],
   "source": [
    "muso_group.columns"
   ]
  },
  {
   "cell_type": "code",
   "execution_count": 11,
   "metadata": {},
   "outputs": [
    {
     "data": {
      "text/plain": [
       "Index(['number', 'caseid', 'name', 'dob', 'first_name', 'household_number',\n",
       "       'last_name', 'patient_code', 'group_code', 'group_commune', 'phone',\n",
       "       'is_inactive', 'group_departement', 'inactive_date', 'graduated',\n",
       "       'abandoned_date', 'is_abandoned', 'graduation_date', 'gender', 'rank',\n",
       "       'group_name', 'address', 'closed', 'closed_by_username', 'closed_date',\n",
       "       'last_modified_by_user_username', 'last_modified_date',\n",
       "       'opened_by_username', 'opened_date', 'owner_name', 'case_link',\n",
       "       'case_type', 'closed_by_user_id', 'external_id',\n",
       "       'last_modified_by_user_id', 'opened_by_user_id', 'owner_id',\n",
       "       'server_last_modified_date', 'state', 'loan_amount', 'owner_id1',\n",
       "       'is_caris_member', 'is_pvvih', 'last_loan_date', 'officer',\n",
       "       'meeting_hour', 'code', 'is_graduated', 'formed_by_members_from',\n",
       "       'actual_cycle', 'commune', 'departement', 'officer_name',\n",
       "       'localite_name', 'departement_name', 'creation_date', 'section',\n",
       "       'localite', 'commune_name', 'why_remove_the_member',\n",
       "       'indices.muso_groupes', 'beneficiary_code', 'cycle_1_end_date',\n",
       "       'meeting_day', 'cycle_3_start_date', 'cycle_1_start_date',\n",
       "       'cycle_2_start_date', 'cycle_2_end_date', 'cycle_3_end_date', 'office',\n",
       "       'global_contribution', 'removing_date', 'household_number_2022',\n",
       "       'is_pvhiv', 'patient_code_pv', 'muso_start_date'],\n",
       "      dtype='object')"
      ]
     },
     "execution_count": 11,
     "metadata": {},
     "output_type": "execute_result"
    }
   ],
   "source": [
    "muso_benef.columns"
   ]
  },
  {
   "cell_type": "code",
   "execution_count": null,
   "metadata": {},
   "outputs": [],
   "source": []
  },
  {
   "cell_type": "code",
   "execution_count": null,
   "metadata": {},
   "outputs": [],
   "source": []
  },
  {
   "cell_type": "code",
   "execution_count": null,
   "metadata": {},
   "outputs": [],
   "source": []
  },
  {
   "cell_type": "code",
   "execution_count": 9,
   "metadata": {},
   "outputs": [],
   "source": [
    "driver.quit()\n"
   ]
  }
 ],
 "metadata": {
  "kernelspec": {
   "display_name": "Python 3",
   "language": "python",
   "name": "python3"
  },
  "language_info": {
   "codemirror_mode": {
    "name": "ipython",
    "version": 3
   },
   "file_extension": ".py",
   "mimetype": "text/x-python",
   "name": "python",
   "nbconvert_exporter": "python",
   "pygments_lexer": "ipython3",
   "version": "3.11.2"
  },
  "orig_nbformat": 4
 },
 "nbformat": 4,
 "nbformat_minor": 2
}
