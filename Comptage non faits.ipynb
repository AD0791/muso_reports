{
 "cells": [
  {
   "cell_type": "code",
   "execution_count": 1,
   "metadata": {},
   "outputs": [
    {
     "data": {
      "text/plain": [
       "True"
      ]
     },
     "execution_count": 1,
     "metadata": {},
     "output_type": "execute_result"
    }
   ],
   "source": [
    "import sys\n",
    "import os\n",
    "import pandas as pd\n",
    "import numpy as np\n",
    "from datetime import datetime\n",
    "import pymysql\n",
    "\n",
    "\n",
    "\n",
    "from dotenv import load_dotenv\n",
    "load_dotenv()"
   ]
  },
  {
   "cell_type": "code",
   "execution_count": 2,
   "metadata": {},
   "outputs": [],
   "source": [
    "from IPython.core.interactiveshell import InteractiveShell\n",
    "InteractiveShell.ast_node_interactivity = 'all'"
   ]
  },
  {
   "cell_type": "code",
   "execution_count": 3,
   "metadata": {},
   "outputs": [],
   "source": [
    "HOSTCaris =os.getenv(\"HOSTCaris\")\n",
    "DBCaris =os.getenv(\"DBCaris\")\n",
    "USRCaris =os.getenv(\"USRCaris\")\n",
    "PASSCaris =os.getenv(\"PASSCaris\")\n",
    "\n",
    "connection = pymysql.connect(\n",
    "    host=HOSTCaris,\n",
    "    user=USRCaris,\n",
    "    password=PASSCaris,\n",
    "    db=DBCaris\n",
    ")"
   ]
  },
  {
   "cell_type": "code",
   "execution_count": 4,
   "metadata": {},
   "outputs": [],
   "source": [
    "req='''SELECT *\n",
    "FROM\n",
    "    caris_db.view_muso_household_report\n",
    "where (isnull(indice_householdcount) and (is_household_applicable ='no' or isnull(is_household_applicable)))'''\n",
    "\n",
    "look_up_caseid=\"\"\"\n",
    "SELECT \n",
    "    mgm.id_patient,\n",
    "    p.patient_code as patient_code_onTable,\n",
    "    p.muso_case_id as caseid\n",
    "FROM\n",
    "    caris_db.muso_group_members mgm\n",
    "        LEFT JOIN\n",
    "    caris_db.patient p ON mgm.id_patient = p.id;\n",
    "\"\"\""
   ]
  },
  {
   "cell_type": "code",
   "execution_count": 5,
   "metadata": {},
   "outputs": [
    {
     "name": "stderr",
     "output_type": "stream",
     "text": [
      "/usr/local/lib/python3.10/site-packages/pandas/io/sql.py:761: UserWarning: pandas only support SQLAlchemy connectable(engine/connection) ordatabase string URI or sqlite3 DBAPI2 connectionother DBAPI2 objects are not tested, please consider using SQLAlchemy\n",
      "  warnings.warn(\n",
      "/usr/local/lib/python3.10/site-packages/pandas/io/sql.py:761: UserWarning: pandas only support SQLAlchemy connectable(engine/connection) ordatabase string URI or sqlite3 DBAPI2 connectionother DBAPI2 objects are not tested, please consider using SQLAlchemy\n",
      "  warnings.warn(\n"
     ]
    }
   ],
   "source": [
    "compt=pd.read_sql(req,connection)\n",
    "look_up_caseid= pd.read_sql(look_up_caseid,connection)\n",
    "\n",
    "\n",
    "\n",
    "connection.close()"
   ]
  },
  {
   "cell_type": "code",
   "execution_count": 6,
   "metadata": {},
   "outputs": [],
   "source": [
    "pvvih_muso_cm_ptme = pd.read_excel('../pvvih_sansComptage/rapport_pvvih_cm_ptme.xlsx')"
   ]
  },
  {
   "cell_type": "code",
   "execution_count": 7,
   "metadata": {},
   "outputs": [
    {
     "data": {
      "text/plain": [
       "Index(['indice_householdcount', 'id_patient', 'prenom', 'nom', 'phone',\n",
       "       'patient_code', 'id_group', 'group_name', 'office', 'commune', 'code',\n",
       "       'case_id_groupes', 'groups_closed_on_commcare',\n",
       "       'is_household_applicable', 'is_inactive_groupes',\n",
       "       'is_graduated_groupes', 'is_inactive_members', 'is_graduated_members',\n",
       "       'members_closed_on_commcare'],\n",
       "      dtype='object')"
      ]
     },
     "execution_count": 7,
     "metadata": {},
     "output_type": "execute_result"
    }
   ],
   "source": [
    "compt.columns\n"
   ]
  },
  {
   "cell_type": "code",
   "execution_count": 8,
   "metadata": {},
   "outputs": [
    {
     "data": {
      "text/plain": [
       "Index(['Menage PTME', 'caseid', 'patient_code_pv', 'code_labo', 'is_pvvih',\n",
       "       'group_name', 'prenom et nom', 'prenom', 'nom', 'dob', 'office',\n",
       "       'id_groupes'],\n",
       "      dtype='object')"
      ]
     },
     "execution_count": 8,
     "metadata": {},
     "output_type": "execute_result"
    }
   ],
   "source": [
    "pvvih_muso_cm_ptme.rename(\n",
    "    columns={\n",
    "        'OFFICE': 'office'\n",
    "    },\n",
    "    inplace=True\n",
    ")\n",
    "pvvih_muso_cm_ptme.columns"
   ]
  },
  {
   "cell_type": "code",
   "execution_count": 9,
   "metadata": {},
   "outputs": [
    {
     "data": {
      "text/plain": [
       "Index(['id_patient', 'patient_code_onTable', 'caseid'], dtype='object')"
      ]
     },
     "execution_count": 9,
     "metadata": {},
     "output_type": "execute_result"
    }
   ],
   "source": [
    "look_up_caseid.columns"
   ]
  },
  {
   "cell_type": "code",
   "execution_count": 10,
   "metadata": {},
   "outputs": [
    {
     "data": {
      "text/plain": [
       "Index(['indice_householdcount', 'id_patient', 'prenom', 'nom', 'phone',\n",
       "       'patient_code', 'id_group', 'group_name', 'office', 'commune', 'code',\n",
       "       'case_id_groupes', 'groups_closed_on_commcare',\n",
       "       'is_household_applicable', 'is_inactive_groupes',\n",
       "       'is_graduated_groupes', 'is_inactive_members', 'is_graduated_members',\n",
       "       'members_closed_on_commcare', 'caseid'],\n",
       "      dtype='object')"
      ]
     },
     "execution_count": 10,
     "metadata": {},
     "output_type": "execute_result"
    }
   ],
   "source": [
    "compt =  compt.merge(look_up_caseid[['id_patient','caseid']],on=\"id_patient\",how=\"left\")\n",
    "compt.columns"
   ]
  },
  {
   "cell_type": "code",
   "execution_count": 11,
   "metadata": {},
   "outputs": [],
   "source": [
    "compt = compt[compt.group_name != 'test Shisu']"
   ]
  },
  {
   "cell_type": "code",
   "execution_count": 12,
   "metadata": {},
   "outputs": [
    {
     "data": {
      "text/plain": [
       "990"
      ]
     },
     "execution_count": 12,
     "metadata": {},
     "output_type": "execute_result"
    },
    {
     "data": {
      "text/plain": [
       "990"
      ]
     },
     "execution_count": 12,
     "metadata": {},
     "output_type": "execute_result"
    },
    {
     "data": {
      "text/html": [
       "<div>\n",
       "<style scoped>\n",
       "    .dataframe tbody tr th:only-of-type {\n",
       "        vertical-align: middle;\n",
       "    }\n",
       "\n",
       "    .dataframe tbody tr th {\n",
       "        vertical-align: top;\n",
       "    }\n",
       "\n",
       "    .dataframe thead th {\n",
       "        text-align: right;\n",
       "    }\n",
       "</style>\n",
       "<table border=\"1\" class=\"dataframe\">\n",
       "  <thead>\n",
       "    <tr style=\"text-align: right;\">\n",
       "      <th></th>\n",
       "      <th>id_patient</th>\n",
       "    </tr>\n",
       "    <tr>\n",
       "      <th>office</th>\n",
       "      <th></th>\n",
       "    </tr>\n",
       "  </thead>\n",
       "  <tbody>\n",
       "    <tr>\n",
       "      <th>CAP</th>\n",
       "      <td>597</td>\n",
       "    </tr>\n",
       "    <tr>\n",
       "      <th>CAY</th>\n",
       "      <td>19</td>\n",
       "    </tr>\n",
       "    <tr>\n",
       "      <th>GON</th>\n",
       "      <td>310</td>\n",
       "    </tr>\n",
       "    <tr>\n",
       "      <th>JER</th>\n",
       "      <td>27</td>\n",
       "    </tr>\n",
       "    <tr>\n",
       "      <th>PAP</th>\n",
       "      <td>37</td>\n",
       "    </tr>\n",
       "    <tr>\n",
       "      <th>Total</th>\n",
       "      <td>990</td>\n",
       "    </tr>\n",
       "  </tbody>\n",
       "</table>\n",
       "</div>"
      ],
      "text/plain": [
       "        id_patient\n",
       "office            \n",
       "CAP            597\n",
       "CAY             19\n",
       "GON            310\n",
       "JER             27\n",
       "PAP             37\n",
       "Total          990"
      ]
     },
     "execution_count": 12,
     "metadata": {},
     "output_type": "execute_result"
    }
   ],
   "source": [
    "compt.caseid.count()\n",
    "compt.id_patient.count()\n",
    "compt.pivot_table(\n",
    "    values=\"id_patient\",\n",
    "    index=\"office\",\n",
    "    aggfunc='count',\n",
    "    fill_value=0,\n",
    "    margins=True,\n",
    "    margins_name=\"Total\"\n",
    ")"
   ]
  },
  {
   "cell_type": "code",
   "execution_count": 13,
   "metadata": {},
   "outputs": [
    {
     "data": {
      "text/plain": [
       "129"
      ]
     },
     "execution_count": 13,
     "metadata": {},
     "output_type": "execute_result"
    },
    {
     "data": {
      "text/plain": [
       "861"
      ]
     },
     "execution_count": 13,
     "metadata": {},
     "output_type": "execute_result"
    }
   ],
   "source": [
    "# remove pcmp in compt\n",
    "remove_compt_pmcmp = compt[compt.caseid.isin(pvvih_muso_cm_ptme.caseid)]\n",
    "compt = compt[~compt.caseid.isin(pvvih_muso_cm_ptme.caseid)]\n",
    "\n",
    "remove_compt_pmcmp.id_patient.count()\n",
    "compt.id_patient.count()"
   ]
  },
  {
   "cell_type": "code",
   "execution_count": 14,
   "metadata": {},
   "outputs": [
    {
     "data": {
      "text/html": [
       "<div>\n",
       "<style scoped>\n",
       "    .dataframe tbody tr th:only-of-type {\n",
       "        vertical-align: middle;\n",
       "    }\n",
       "\n",
       "    .dataframe tbody tr th {\n",
       "        vertical-align: top;\n",
       "    }\n",
       "\n",
       "    .dataframe thead th {\n",
       "        text-align: right;\n",
       "    }\n",
       "</style>\n",
       "<table border=\"1\" class=\"dataframe\">\n",
       "  <thead>\n",
       "    <tr style=\"text-align: right;\">\n",
       "      <th></th>\n",
       "      <th>id_patient</th>\n",
       "    </tr>\n",
       "    <tr>\n",
       "      <th>office</th>\n",
       "      <th></th>\n",
       "    </tr>\n",
       "  </thead>\n",
       "  <tbody>\n",
       "    <tr>\n",
       "      <th>CAP</th>\n",
       "      <td>534</td>\n",
       "    </tr>\n",
       "    <tr>\n",
       "      <th>CAY</th>\n",
       "      <td>6</td>\n",
       "    </tr>\n",
       "    <tr>\n",
       "      <th>GON</th>\n",
       "      <td>294</td>\n",
       "    </tr>\n",
       "    <tr>\n",
       "      <th>JER</th>\n",
       "      <td>27</td>\n",
       "    </tr>\n",
       "    <tr>\n",
       "      <th>Total</th>\n",
       "      <td>861</td>\n",
       "    </tr>\n",
       "  </tbody>\n",
       "</table>\n",
       "</div>"
      ],
      "text/plain": [
       "        id_patient\n",
       "office            \n",
       "CAP            534\n",
       "CAY              6\n",
       "GON            294\n",
       "JER             27\n",
       "Total          861"
      ]
     },
     "execution_count": 14,
     "metadata": {},
     "output_type": "execute_result"
    },
    {
     "data": {
      "text/html": [
       "<div>\n",
       "<style scoped>\n",
       "    .dataframe tbody tr th:only-of-type {\n",
       "        vertical-align: middle;\n",
       "    }\n",
       "\n",
       "    .dataframe tbody tr th {\n",
       "        vertical-align: top;\n",
       "    }\n",
       "\n",
       "    .dataframe thead th {\n",
       "        text-align: right;\n",
       "    }\n",
       "</style>\n",
       "<table border=\"1\" class=\"dataframe\">\n",
       "  <thead>\n",
       "    <tr style=\"text-align: right;\">\n",
       "      <th></th>\n",
       "      <th>id_patient</th>\n",
       "    </tr>\n",
       "    <tr>\n",
       "      <th>office</th>\n",
       "      <th></th>\n",
       "    </tr>\n",
       "  </thead>\n",
       "  <tbody>\n",
       "    <tr>\n",
       "      <th>CAP</th>\n",
       "      <td>63</td>\n",
       "    </tr>\n",
       "    <tr>\n",
       "      <th>CAY</th>\n",
       "      <td>13</td>\n",
       "    </tr>\n",
       "    <tr>\n",
       "      <th>GON</th>\n",
       "      <td>16</td>\n",
       "    </tr>\n",
       "    <tr>\n",
       "      <th>PAP</th>\n",
       "      <td>37</td>\n",
       "    </tr>\n",
       "    <tr>\n",
       "      <th>Total</th>\n",
       "      <td>129</td>\n",
       "    </tr>\n",
       "  </tbody>\n",
       "</table>\n",
       "</div>"
      ],
      "text/plain": [
       "        id_patient\n",
       "office            \n",
       "CAP             63\n",
       "CAY             13\n",
       "GON             16\n",
       "PAP             37\n",
       "Total          129"
      ]
     },
     "execution_count": 14,
     "metadata": {},
     "output_type": "execute_result"
    }
   ],
   "source": [
    "resume = compt.pivot_table(\n",
    "    values=\"id_patient\",\n",
    "    index=\"office\",\n",
    "    aggfunc='count',\n",
    "    fill_value=0,\n",
    "    margins=True,\n",
    "    margins_name=\"Total\"\n",
    ")\n",
    "resume\n",
    "\n",
    "\n",
    "resume_remove = remove_compt_pmcmp.pivot_table(\n",
    "    values=\"id_patient\",\n",
    "    index=\"office\",\n",
    "    aggfunc='count',\n",
    "    fill_value=0,\n",
    "    margins=True,\n",
    "    margins_name=\"Total\"\n",
    ")\n",
    "resume_remove"
   ]
  },
  {
   "cell_type": "code",
   "execution_count": 15,
   "metadata": {},
   "outputs": [
    {
     "data": {
      "text/html": [
       "<div>\n",
       "<style scoped>\n",
       "    .dataframe tbody tr th:only-of-type {\n",
       "        vertical-align: middle;\n",
       "    }\n",
       "\n",
       "    .dataframe tbody tr th {\n",
       "        vertical-align: top;\n",
       "    }\n",
       "\n",
       "    .dataframe thead th {\n",
       "        text-align: right;\n",
       "    }\n",
       "</style>\n",
       "<table border=\"1\" class=\"dataframe\">\n",
       "  <thead>\n",
       "    <tr style=\"text-align: right;\">\n",
       "      <th></th>\n",
       "      <th>caseid</th>\n",
       "    </tr>\n",
       "    <tr>\n",
       "      <th>office</th>\n",
       "      <th></th>\n",
       "    </tr>\n",
       "  </thead>\n",
       "  <tbody>\n",
       "    <tr>\n",
       "      <th>CAP</th>\n",
       "      <td>110</td>\n",
       "    </tr>\n",
       "    <tr>\n",
       "      <th>GON</th>\n",
       "      <td>28</td>\n",
       "    </tr>\n",
       "    <tr>\n",
       "      <th>PAP</th>\n",
       "      <td>104</td>\n",
       "    </tr>\n",
       "    <tr>\n",
       "      <th>PDP</th>\n",
       "      <td>5</td>\n",
       "    </tr>\n",
       "    <tr>\n",
       "      <th>Total</th>\n",
       "      <td>247</td>\n",
       "    </tr>\n",
       "  </tbody>\n",
       "</table>\n",
       "</div>"
      ],
      "text/plain": [
       "        caseid\n",
       "office        \n",
       "CAP        110\n",
       "GON         28\n",
       "PAP        104\n",
       "PDP          5\n",
       "Total      247"
      ]
     },
     "execution_count": 15,
     "metadata": {},
     "output_type": "execute_result"
    }
   ],
   "source": [
    "resume_pmcp = pvvih_muso_cm_ptme.pivot_table(\n",
    "    values=\"caseid\",\n",
    "    index=\"office\",\n",
    "    aggfunc='count',\n",
    "    fill_value=0,\n",
    "    margins=True,\n",
    "    margins_name=\"Total\"\n",
    ")\n",
    "\n",
    "resume_pmcp"
   ]
  },
  {
   "cell_type": "code",
   "execution_count": 16,
   "metadata": {},
   "outputs": [],
   "source": [
    "LOCATION_ALL_PVVIH_MUSO_CM_ptme=[\n",
    "    f\"../pvvih_sansComptage/total pvvih muso avec comptage ptme.xlsx\",\n",
    "    f\"./total pvvih muso avec comptage ptme.xlsx\"\n",
    "]\n",
    "\n",
    "LOCATION_IDENTIFIED_PVVIH_MUSO_CM_ptme=[\n",
    "    f\"../pvvih_sansComptage/pvvih muso avec comptage ptme identifie dans comptage muso restant.xlsx\",\n",
    "    f\"./total pvvih muso avec comptage ptme identifie dans comptage muso restant.xlsx\"\n",
    "]"
   ]
  },
  {
   "cell_type": "code",
   "execution_count": 17,
   "metadata": {},
   "outputs": [],
   "source": [
    "writer = pd.ExcelWriter(f\"Comptage non faits_{str(datetime.today().strftime('%Y-%m-%d'))}.xlsx\", engine='xlsxwriter')\n",
    "resume.to_excel(writer,index=True,sheet_name=\"resume\")\n",
    "for name in compt[\"office\"].unique().tolist():\n",
    "    file=compt[compt[\"office\"]== name]\n",
    "    file.to_excel(writer, index=False, sheet_name=f'{name}')\n",
    "writer.save()"
   ]
  },
  {
   "cell_type": "code",
   "execution_count": 18,
   "metadata": {},
   "outputs": [],
   "source": [
    "for location in LOCATION_ALL_PVVIH_MUSO_CM_ptme:\n",
    "    writer = pd.ExcelWriter(location, engine='xlsxwriter')\n",
    "    resume_pmcp.to_excel(writer,index=True,sheet_name=\"resume\")\n",
    "    for name in pvvih_muso_cm_ptme[\"office\"].unique().tolist():\n",
    "        file=pvvih_muso_cm_ptme[pvvih_muso_cm_ptme[\"office\"]== name]\n",
    "        file.to_excel(writer, index=False, sheet_name=f'{name}')\n",
    "    writer.save()"
   ]
  },
  {
   "cell_type": "code",
   "execution_count": 19,
   "metadata": {},
   "outputs": [],
   "source": [
    "for loc in LOCATION_IDENTIFIED_PVVIH_MUSO_CM_ptme:\n",
    "    writer = pd.ExcelWriter(loc, engine='xlsxwriter')\n",
    "    resume_remove.to_excel(writer,index=True,sheet_name=\"resume\")\n",
    "    for name in remove_compt_pmcmp[\"office\"].unique().tolist():\n",
    "        file=remove_compt_pmcmp[remove_compt_pmcmp[\"office\"]== name]\n",
    "        file.to_excel(writer, index=False, sheet_name=f'{name}')\n",
    "    writer.save()"
   ]
  },
  {
   "cell_type": "code",
   "execution_count": null,
   "metadata": {},
   "outputs": [],
   "source": [
    "compt.to_excel('cnf_muso.xlsx',index=False,na_rep=\"\")"
   ]
  }
 ],
 "metadata": {
  "kernelspec": {
   "display_name": "Python 3.10.6 64-bit",
   "language": "python",
   "name": "python3"
  },
  "language_info": {
   "codemirror_mode": {
    "name": "ipython",
    "version": 3
   },
   "file_extension": ".py",
   "mimetype": "text/x-python",
   "name": "python",
   "nbconvert_exporter": "python",
   "pygments_lexer": "ipython3",
   "version": "3.10.7"
  },
  "vscode": {
   "interpreter": {
    "hash": "aee8b7b246df8f9039afb4144a1f6fd8d2ca17a180786b69acc140d282b71a49"
   }
  }
 },
 "nbformat": 4,
 "nbformat_minor": 4
}
