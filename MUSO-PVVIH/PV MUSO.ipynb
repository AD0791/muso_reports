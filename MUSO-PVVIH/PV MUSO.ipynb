{
 "cells": [
  {
   "cell_type": "markdown",
   "metadata": {},
   "source": [
    "# Rapport sur les PVVIH de MUSO"
   ]
  },
  {
   "cell_type": "code",
   "execution_count": 1,
   "metadata": {},
   "outputs": [],
   "source": [
    "import pandas as pd\n",
    "import numpy as np\n",
    "from datetime import datetime\n",
    "import warnings\n",
    "warnings.filterwarnings('ignore')\n",
    "from dateutil.parser import parse\n",
    "from selenium import webdriver\n",
    "from selenium.webdriver.chrome.service import Service as ChromeService\n",
    "from webdriver_manager.chrome import ChromeDriverManager\n",
    "from selenium.webdriver.common.by import By\n",
    "import time\n",
    "from IPython.core.interactiveshell import InteractiveShell\n",
    "InteractiveShell.ast_node_interactivity = 'all'\n",
    "import os\n",
    "from dotenv import load_dotenv\n",
    "import plotly.express as px\n",
    "import openpyxl\n",
    "import pymysql\n",
    "from sqlalchemy import create_engine,text\n"
   ]
  },
  {
   "cell_type": "markdown",
   "metadata": {},
   "source": [
    "## Connect to commcare"
   ]
  },
  {
   "cell_type": "code",
   "execution_count": 2,
   "metadata": {},
   "outputs": [
    {
     "data": {
      "text/plain": [
       "True"
      ]
     },
     "execution_count": 2,
     "metadata": {},
     "output_type": "execute_result"
    }
   ],
   "source": [
    "#Connecting to Commcare\n",
    "load_dotenv('id_cc.env')\n",
    "email = os.getenv('COMCARE_EMAIL')\n",
    "password_cc = os.getenv('COMCARE_PASSWORD')\n",
    "\n",
    "#Defining the driver\n",
    "driver = webdriver.Chrome(service=ChromeService(ChromeDriverManager().install()))\n",
    "driver.implicitly_wait(1000)\n",
    "\n",
    "#Creating login function\n",
    "def muso_beneficiaries():\n",
    "    driver.get(\n",
    "        'https://www.commcarehq.org/a/caris-test/data/export/custom/new/case/download/91fe1e2fc809dfd56a29bfce97cc9d15/'\n",
    "    )\n",
    "    #driver.find_element_by_xpath('//*[@id=\"id_auth-username\"]').send_keys(email)\n",
    "    driver.find_element(By.XPATH,'//*[@id=\"id_auth-username\"]').send_keys(email)\n",
    "    #driver.find_element_by_xpath('//*[@id=\"id_auth-password\"]').send_keys(password_cc)\n",
    "    driver.find_element(By.XPATH,'//*[@id=\"id_auth-password\"]').send_keys(password_cc)\n",
    "    driver.find_element(By.CSS_SELECTOR,'button[type=submit]').click()\n",
    "\n",
    "#Muso beneficiaries\n",
    "muso_beneficiaries()\n",
    "\n",
    "#Download the database \"All gardens\"\n",
    "#driver.find_element_by_xpath('//*[@id=\"download-export-form\"]/form/div[2]/div/div[2]/div[1]/button/span[1]').click()\n",
    "driver.find_element(By.XPATH,\"//*[@id='download-export-form']/form/div[2]/div/div[2]/div[1]/button/span[1]\").click()\n",
    "#driver.find_element_by_xpath('//*[@id=\"download-progress\"]/div/div/div[2]/div[1]/form/a/span[1]').click()    \n",
    "driver.find_element(By.XPATH,\"//*[@id='download-progress']/div/div/div[2]/div[1]/form/a/span[1]\").click()    \n",
    "\n",
    "#-----------------------------------------------------------------------------------------------------------------------\n",
    "\n",
    "#Household count\n",
    "def muso_groups():\n",
    "    driver.get(\n",
    "        'https://www.commcarehq.org/a/caris-test/data/export/custom/new/case/download/91fe1e2fc809dfd56a29bfce973b4c0d/'\n",
    "    )\n",
    "    \n",
    "muso_groups()\n",
    "\n",
    "#Download the database \"Household count\"\n",
    "#driver.find_element_by_xpath('//*[@id=\"download-export-form\"]/form/div[2]/div/div[2]/div[1]/button/span[1]').click()\n",
    "driver.find_element(By.XPATH,'//*[@id=\"download-export-form\"]/form/div[2]/div/div[2]/div[1]/button/span[1]').click()\n",
    "#driver.find_element_by_xpath('//*[@id=\"download-progress\"]/div/div/div[2]/div[1]/form/a/span[1]').click()\n",
    "driver.find_element(By.XPATH,'//*[@id=\"download-progress\"]/div/div/div[2]/div[1]/form/a/span[1]').click()\n"
   ]
  },
  {
   "cell_type": "markdown",
   "metadata": {},
   "source": [
    "## Import the data"
   ]
  },
  {
   "cell_type": "code",
   "execution_count": 3,
   "metadata": {},
   "outputs": [],
   "source": [
    "muso_benef = pd.read_excel(f\"~/Downloads/muso_beneficiaries {str(datetime.today().strftime('%Y-%m-%d'))}.xlsx\", sheet_name = 'Cases')\n",
    "muso_group = pd.read_excel(f\"~/Downloads/muso_groupes {str(datetime.today().strftime('%Y-%m-%d'))}.xlsx\")\n"
   ]
  },
  {
   "cell_type": "code",
   "execution_count": 4,
   "metadata": {},
   "outputs": [],
   "source": [
    "muso_group.rename(columns = {'is_graduated': 'graduated_group',\n",
    "                            'is_inactive': 'inactive_group',\n",
    "                            'closed': 'closed_group',\n",
    "                            'caseid': 'caseid_group',\n",
    "                            'office': 'office_group'}, inplace = True)\n",
    "\n",
    "muso_benef.rename(columns = {'indices.muso_groupes': 'caseid_group'}, inplace = True)\n",
    "\n",
    "group_info = muso_group[['caseid_group', 'office_name', 'office_group', 'graduated_group', 'inactive_group', 'closed_group']]\n"
   ]
  },
  {
   "cell_type": "markdown",
   "metadata": {},
   "source": [
    "## Concat to check good codes and to add info status to infos beneficiaries"
   ]
  },
  {
   "cell_type": "code",
   "execution_count": 5,
   "metadata": {},
   "outputs": [
    {
     "data": {
      "text/plain": [
       "(55321, 81)"
      ]
     },
     "execution_count": 5,
     "metadata": {},
     "output_type": "execute_result"
    }
   ],
   "source": [
    "muso_sheet = muso_benef.merge(group_info, on = 'caseid_group', how = 'left')\n",
    "muso_sheet.shape\n"
   ]
  },
  {
   "cell_type": "code",
   "execution_count": 6,
   "metadata": {},
   "outputs": [
    {
     "data": {
      "text/plain": [
       "False"
      ]
     },
     "execution_count": 6,
     "metadata": {},
     "output_type": "execute_result"
    }
   ],
   "source": [
    "#connecting to HIV Haiti to get all codes on HIV Haiti\n",
    "load_dotenv('.env')\n",
    "user = os.getenv('USRCaris')\n",
    "password_hiv = os.getenv('PASSCaris')\n",
    "host = os.getenv('HOSTCaris')\n",
    "db = os.getenv('DBCaris')\n",
    "\n",
    "conn_text = f'mysql+pymysql://{user}:{password_hiv}@{host}/{db}'\n",
    "engine = create_engine(conn_text)\n",
    "\n",
    "sql2 = 'select * from patient'\n",
    "all_patient = pd.read_sql_query(text(sql2), engine.connect(), parse_dates = True)\n",
    "all_patient.rename(columns = {'patient_code': 'patient_code_pv'}, inplace = True)\n"
   ]
  },
  {
   "cell_type": "code",
   "execution_count": 7,
   "metadata": {},
   "outputs": [
    {
     "data": {
      "text/plain": [
       "Index(['id', 'city_code', 'hospital_code', 'patient_number', 'patient_code_pv',\n",
       "       'linked_to_id_patient', 'which_program', 'muso_case_id',\n",
       "       'schooling_positif_case_id', 'gardening_case_id',\n",
       "       'schooling_ptme_case_id', 'dreams_case_id', 'created_at', 'updated_at',\n",
       "       'created_by', 'updated_by', 'check_patient_code'],\n",
       "      dtype='object')"
      ]
     },
     "execution_count": 7,
     "metadata": {},
     "output_type": "execute_result"
    }
   ],
   "source": [
    "all_patient['check_patient_code'] = all_patient['patient_code_pv']\n",
    "\n",
    "all_patient.columns\n"
   ]
  },
  {
   "cell_type": "code",
   "execution_count": 8,
   "metadata": {},
   "outputs": [],
   "source": [
    "# hhm_club = hhm_club.merge(OVC[['patient_code', 'Commune']], on = 'patient_code', how = 'left')\n",
    "\n",
    "muso_sheet = muso_sheet.merge(all_patient[['patient_code_pv', 'check_patient_code']], on = 'patient_code_pv', how = 'left')\n",
    "\n",
    "#merging is_pvvih and is_pvhiv\n",
    "muso_sheet['is_pvvih'].fillna(\"---\", inplace = True)\n",
    "muso_sheet['is_pvvih'] = muso_sheet['is_pvhiv'].where(muso_sheet['is_pvvih'].isin([\"---\"]), \n",
    "                                           other=muso_sheet['is_pvvih'])\n"
   ]
  },
  {
   "cell_type": "code",
   "execution_count": 9,
   "id": "728643af",
   "metadata": {},
   "outputs": [],
   "source": [
    "muso_sheet = muso_sheet[muso_sheet.group_name != 'test Shisu']\n"
   ]
  },
  {
   "cell_type": "markdown",
   "metadata": {},
   "source": [
    "## Active benef and PVVIH"
   ]
  },
  {
   "cell_type": "code",
   "execution_count": 10,
   "metadata": {},
   "outputs": [],
   "source": [
    "#filtering\n",
    "\n",
    "active_benef = muso_sheet[(muso_sheet['why_remove_the_member'] == '---') & \n",
    "                          (muso_sheet['graduated_group'] != '1') &\n",
    "                         (muso_sheet['inactive_group'] != '1') & \n",
    "                         (muso_sheet['closed_group'] != True)]\n",
    "\n",
    "pvvih = active_benef[(active_benef['is_pvvih'] == '1')]\n"
   ]
  },
  {
   "cell_type": "code",
   "execution_count": 11,
   "metadata": {},
   "outputs": [],
   "source": [
    "#muso_sheet.to_excel('Muso_data.xlsx', index = False)\n"
   ]
  },
  {
   "cell_type": "code",
   "execution_count": 12,
   "id": "ac19d6f4",
   "metadata": {},
   "outputs": [],
   "source": [
    "actBen = active_benef\n",
    "actBen['office_name'] = np.where(actBen['office_name'] == '---', actBen['office_group'], actBen['office_name'])\n"
   ]
  },
  {
   "cell_type": "code",
   "execution_count": 13,
   "id": "46ad4c96",
   "metadata": {},
   "outputs": [],
   "source": [
    "actBen.to_excel(\"./muso_active_members_on_active_groups.xlsx\")\n"
   ]
  },
  {
   "cell_type": "markdown",
   "id": "ad5a6d8e",
   "metadata": {},
   "source": [
    "## pvvih must be caris member/"
   ]
  },
  {
   "cell_type": "code",
   "execution_count": 14,
   "id": "09158d7b",
   "metadata": {},
   "outputs": [],
   "source": [
    "pvvih.is_caris_member.fillna(\"---\",inplace=True)\n"
   ]
  },
  {
   "cell_type": "code",
   "execution_count": 15,
   "id": "5405152c",
   "metadata": {},
   "outputs": [],
   "source": [
    "\n",
    "\n",
    "def handle_isCarisMember(d):\n",
    "    if d == \"1\":\n",
    "        return \"PTME\"\n",
    "    elif d == \"2\":\n",
    "        return \"OVC\"\n",
    "    elif d == \"3\":\n",
    "        return \"SCHOLARISATION\"\n",
    "    elif d == \"4\":\n",
    "        return \"DREAMS\"\n",
    "    elif d == \"5\":\n",
    "        return \"JARDINAGE\"\n",
    "    elif d == \"6\":\n",
    "        return \"PSYCHOSOCIAL\"\n",
    "    elif d == \"7\":\n",
    "        return \"FCI\"\n",
    "    elif d == \"8\":\n",
    "        return \"Aucun_Programme\"\n",
    "    else:\n",
    "        return \"---\"\n",
    "\n"
   ]
  },
  {
   "cell_type": "code",
   "execution_count": 16,
   "id": "34e1e1c3",
   "metadata": {},
   "outputs": [],
   "source": [
    "pvvih.is_caris_member = pvvih.is_caris_member.map(handle_isCarisMember)\n"
   ]
  },
  {
   "cell_type": "code",
   "execution_count": 17,
   "id": "0192fe26",
   "metadata": {},
   "outputs": [
    {
     "data": {
      "text/plain": [
       "PTME               1147\n",
       "---                 843\n",
       "FCI                 301\n",
       "Aucun_Programme     268\n",
       "PSYCHOSOCIAL         97\n",
       "SCHOLARISATION       53\n",
       "OVC                  31\n",
       "JARDINAGE            28\n",
       "DREAMS                5\n",
       "Name: is_caris_member, dtype: int64"
      ]
     },
     "execution_count": 17,
     "metadata": {},
     "output_type": "execute_result"
    }
   ],
   "source": [
    "pvvih.is_caris_member.value_counts()\n"
   ]
  },
  {
   "cell_type": "markdown",
   "metadata": {},
   "source": [
    "## Infos global"
   ]
  },
  {
   "cell_type": "code",
   "execution_count": 18,
   "metadata": {},
   "outputs": [
    {
     "name": "stdout",
     "output_type": "stream",
     "text": [
      "Informations clés: Membres actifs : 21890 , PVVIH: 2773.\n"
     ]
    }
   ],
   "source": [
    "print(f\"Informations clés: Membres actifs : {active_benef.shape[0]} , PVVIH: {pvvih.shape[0]}.\")\n"
   ]
  },
  {
   "cell_type": "markdown",
   "metadata": {},
   "source": [
    "## Patient PV avec code"
   ]
  },
  {
   "cell_type": "code",
   "execution_count": 19,
   "metadata": {},
   "outputs": [
    {
     "data": {
      "text/plain": [
       "2728"
      ]
     },
     "execution_count": 19,
     "metadata": {},
     "output_type": "execute_result"
    }
   ],
   "source": [
    "patient_code = pvvih[~(pvvih['patient_code_pv'].isin(['---', '//']))]\n",
    "patient_code.shape[0]\n"
   ]
  },
  {
   "cell_type": "code",
   "execution_count": 20,
   "metadata": {},
   "outputs": [],
   "source": [
    "patient_code.to_excel(f\"MUSO_PV_w_code {str(datetime.today().strftime('%Y-%m-%d'))}.xlsx\", index = False)\n"
   ]
  },
  {
   "cell_type": "markdown",
   "metadata": {},
   "source": [
    "## PV sans code\n",
    "\n"
   ]
  },
  {
   "cell_type": "code",
   "execution_count": 21,
   "metadata": {
    "scrolled": true
   },
   "outputs": [
    {
     "data": {
      "text/html": [
       "<div>\n",
       "<style scoped>\n",
       "    .dataframe tbody tr th:only-of-type {\n",
       "        vertical-align: middle;\n",
       "    }\n",
       "\n",
       "    .dataframe tbody tr th {\n",
       "        vertical-align: top;\n",
       "    }\n",
       "\n",
       "    .dataframe thead th {\n",
       "        text-align: right;\n",
       "    }\n",
       "</style>\n",
       "<table border=\"1\" class=\"dataframe\">\n",
       "  <thead>\n",
       "    <tr style=\"text-align: right;\">\n",
       "      <th></th>\n",
       "      <th>caseid</th>\n",
       "      <th>first_name</th>\n",
       "      <th>last_name</th>\n",
       "      <th>dob</th>\n",
       "      <th>gender</th>\n",
       "      <th>office_name</th>\n",
       "      <th>is_pvvih</th>\n",
       "      <th>patient_code_pv</th>\n",
       "      <th>check_patient_code</th>\n",
       "      <th>group_name</th>\n",
       "      <th>group_code</th>\n",
       "      <th>group_commune</th>\n",
       "      <th>group_departement</th>\n",
       "      <th>phone</th>\n",
       "      <th>inactive_date</th>\n",
       "      <th>is_abandoned</th>\n",
       "      <th>officer_name</th>\n",
       "      <th>muso_start_date</th>\n",
       "      <th>is_caris_member</th>\n",
       "    </tr>\n",
       "  </thead>\n",
       "  <tbody>\n",
       "    <tr>\n",
       "      <th>43792</th>\n",
       "      <td>c88bbfe8-6a09-41dc-bb61-6d0a500183bb</td>\n",
       "      <td>Josette</td>\n",
       "      <td>Cirius</td>\n",
       "      <td>1976-02-26</td>\n",
       "      <td>F</td>\n",
       "      <td>GON</td>\n",
       "      <td>1</td>\n",
       "      <td>---</td>\n",
       "      <td>NaN</td>\n",
       "      <td>Fanm vanyan</td>\n",
       "      <td>---</td>\n",
       "      <td>---</td>\n",
       "      <td>---</td>\n",
       "      <td>38645532</td>\n",
       "      <td>---</td>\n",
       "      <td>---</td>\n",
       "      <td>---</td>\n",
       "      <td>2022-01-16</td>\n",
       "      <td>PTME</td>\n",
       "    </tr>\n",
       "    <tr>\n",
       "      <th>44729</th>\n",
       "      <td>a2b6b5d7-0019-45dd-96da-73d8da326b28</td>\n",
       "      <td>Renouse</td>\n",
       "      <td>Jean-Pierre</td>\n",
       "      <td>2022-02-09</td>\n",
       "      <td>NaN</td>\n",
       "      <td>CAP</td>\n",
       "      <td>1</td>\n",
       "      <td>//</td>\n",
       "      <td>NaN</td>\n",
       "      <td>Avenir Fraternel</td>\n",
       "      <td>---</td>\n",
       "      <td>---</td>\n",
       "      <td>---</td>\n",
       "      <td>NaN</td>\n",
       "      <td>---</td>\n",
       "      <td>---</td>\n",
       "      <td>---</td>\n",
       "      <td>2021-03-24</td>\n",
       "      <td>---</td>\n",
       "    </tr>\n",
       "    <tr>\n",
       "      <th>49085</th>\n",
       "      <td>7721bade-1173-4860-98d5-d544bc38dca6</td>\n",
       "      <td>Samentha</td>\n",
       "      <td>Louidor</td>\n",
       "      <td>1982-04-08</td>\n",
       "      <td>F</td>\n",
       "      <td>CAP</td>\n",
       "      <td>1</td>\n",
       "      <td>---</td>\n",
       "      <td>NaN</td>\n",
       "      <td>MiSo Têt Kole Kanpech</td>\n",
       "      <td>---</td>\n",
       "      <td>---</td>\n",
       "      <td>---</td>\n",
       "      <td>NaN</td>\n",
       "      <td>---</td>\n",
       "      <td>---</td>\n",
       "      <td>---</td>\n",
       "      <td>2021-10-29</td>\n",
       "      <td>---</td>\n",
       "    </tr>\n",
       "    <tr>\n",
       "      <th>49310</th>\n",
       "      <td>64e03c09-5251-44bc-92df-9f5d42cb716f</td>\n",
       "      <td>Sonia</td>\n",
       "      <td>Jean</td>\n",
       "      <td>1992-05-10</td>\n",
       "      <td>F</td>\n",
       "      <td>CAP</td>\n",
       "      <td>1</td>\n",
       "      <td>---</td>\n",
       "      <td>NaN</td>\n",
       "      <td>fanm janm</td>\n",
       "      <td>---</td>\n",
       "      <td>---</td>\n",
       "      <td>---</td>\n",
       "      <td>42388481</td>\n",
       "      <td>---</td>\n",
       "      <td>---</td>\n",
       "      <td>---</td>\n",
       "      <td>---</td>\n",
       "      <td>PTME</td>\n",
       "    </tr>\n",
       "    <tr>\n",
       "      <th>52713</th>\n",
       "      <td>9aa2a753-ee7d-4369-816f-d615e5f9f76c</td>\n",
       "      <td>Marline</td>\n",
       "      <td>Toussaint</td>\n",
       "      <td>1994-02-21</td>\n",
       "      <td>F</td>\n",
       "      <td>CAP</td>\n",
       "      <td>1</td>\n",
       "      <td>---</td>\n",
       "      <td>NaN</td>\n",
       "      <td>Fanm Djanm</td>\n",
       "      <td>---</td>\n",
       "      <td>---</td>\n",
       "      <td>---</td>\n",
       "      <td>NaN</td>\n",
       "      <td>---</td>\n",
       "      <td>---</td>\n",
       "      <td>---</td>\n",
       "      <td>---</td>\n",
       "      <td>PTME</td>\n",
       "    </tr>\n",
       "  </tbody>\n",
       "</table>\n",
       "</div>"
      ],
      "text/plain": [
       "                                     caseid first_name    last_name  \\\n",
       "43792  c88bbfe8-6a09-41dc-bb61-6d0a500183bb    Josette       Cirius   \n",
       "44729  a2b6b5d7-0019-45dd-96da-73d8da326b28    Renouse  Jean-Pierre   \n",
       "49085  7721bade-1173-4860-98d5-d544bc38dca6   Samentha      Louidor   \n",
       "49310  64e03c09-5251-44bc-92df-9f5d42cb716f      Sonia         Jean   \n",
       "52713  9aa2a753-ee7d-4369-816f-d615e5f9f76c    Marline    Toussaint   \n",
       "\n",
       "              dob gender office_name is_pvvih patient_code_pv  \\\n",
       "43792  1976-02-26      F         GON        1             ---   \n",
       "44729  2022-02-09    NaN         CAP        1              //   \n",
       "49085  1982-04-08      F         CAP        1             ---   \n",
       "49310  1992-05-10      F         CAP        1             ---   \n",
       "52713  1994-02-21      F         CAP        1             ---   \n",
       "\n",
       "      check_patient_code             group_name group_code group_commune  \\\n",
       "43792                NaN            Fanm vanyan        ---           ---   \n",
       "44729                NaN       Avenir Fraternel        ---           ---   \n",
       "49085                NaN  MiSo Têt Kole Kanpech        ---           ---   \n",
       "49310                NaN              fanm janm        ---           ---   \n",
       "52713                NaN             Fanm Djanm        ---           ---   \n",
       "\n",
       "      group_departement     phone inactive_date is_abandoned officer_name  \\\n",
       "43792               ---  38645532           ---          ---          ---   \n",
       "44729               ---       NaN           ---          ---          ---   \n",
       "49085               ---       NaN           ---          ---          ---   \n",
       "49310               ---  42388481           ---          ---          ---   \n",
       "52713               ---       NaN           ---          ---          ---   \n",
       "\n",
       "      muso_start_date is_caris_member  \n",
       "43792      2022-01-16            PTME  \n",
       "44729      2021-03-24             ---  \n",
       "49085      2021-10-29             ---  \n",
       "49310             ---            PTME  \n",
       "52713             ---            PTME  "
      ]
     },
     "execution_count": 21,
     "metadata": {},
     "output_type": "execute_result"
    }
   ],
   "source": [
    "pv = pvvih[pvvih['patient_code_pv'].isin(['---', '//'])]\n",
    "pv_wc = pv[['caseid', 'first_name', 'last_name', 'dob', 'gender', 'office_name', 'office_group','is_pvvih', 'patient_code_pv',\n",
    "            'check_patient_code', 'group_name','group_code', 'group_commune', 'group_departement', 'phone', 'inactive_date', 'is_abandoned',\n",
    "                   'officer_name', 'muso_start_date',\"is_caris_member\"]]\n",
    "\n",
    "pv_wc['office_name'] = np.where(pv_wc['office_name'] == '---', pv_wc['office_group'], pv_wc['office_name'])\n",
    "pv_wc.drop(['office_group'], axis = 1, inplace = True)\n",
    "pv_wc['gender']=pd.to_numeric(pv_wc['gender'],errors=\"coerce\")\n",
    "pv_wc['gender']=pv_wc['gender'].replace([1,2],[\"M\",\"F\"])\n",
    "pv_wc.head()\n"
   ]
  },
  {
   "cell_type": "code",
   "execution_count": 22,
   "metadata": {},
   "outputs": [],
   "source": [
    "pv_wc.to_excel(f\"MUSO_PVVIH_sans_code {str(datetime.today().strftime('%Y-%m-%d'))}.xlsx\", index = False)\n"
   ]
  },
  {
   "cell_type": "code",
   "execution_count": 23,
   "metadata": {},
   "outputs": [
    {
     "data": {
      "text/plain": [
       "45"
      ]
     },
     "execution_count": 23,
     "metadata": {},
     "output_type": "execute_result"
    }
   ],
   "source": [
    "pv_wc.shape[0]\n"
   ]
  },
  {
   "cell_type": "markdown",
   "metadata": {},
   "source": [
    "## Export final file"
   ]
  },
  {
   "cell_type": "code",
   "execution_count": 24,
   "id": "74a34543",
   "metadata": {},
   "outputs": [],
   "source": [
    "pv_wc.pivot_table(\n",
    "    values=\"caseid\",\n",
    "    index=\"office_name\",\n",
    "    aggfunc='count',\n",
    "    fill_value=0,\n",
    "    margins=True,\n",
    "    margins_name=\"Total\"\n",
    ").to_excel(\"resume_pvvih_sans_code.xlsx\",index=True)\n"
   ]
  },
  {
   "cell_type": "code",
   "execution_count": 25,
   "metadata": {},
   "outputs": [],
   "source": [
    "df = pv_wc\n",
    "column_name = 'office_name'\n",
    "unique_values = df[column_name].unique()\n",
    "\n",
    "with pd.ExcelWriter(f\"./By_office/PV_sans_code {str(datetime.today().strftime('%Y-%m-%d'))}.xlsx\", engine = 'openpyxl') as writer:\n",
    "    for unique_value in unique_values:\n",
    "        df_output = df[df[column_name].str.contains(unique_value)]\n",
    "        df_output.to_excel(writer, sheet_name = unique_value, index = False)\n"
   ]
  },
  {
   "cell_type": "code",
   "execution_count": 26,
   "metadata": {},
   "outputs": [],
   "source": [
    "patient_code = patient_code[['caseid', 'is_caris_member','first_name', 'last_name', 'dob', 'gender', 'office_name', 'office_group','is_pvvih', 'patient_code_pv',\n",
    "            'check_patient_code', 'group_name','group_code', 'group_commune', 'group_departement', 'phone', 'inactive_date', 'is_abandoned',\n",
    "                   'officer_name', 'muso_start_date']]\n",
    "patient_code['office_name'] = np.where(patient_code['office_name'] == '---', patient_code['office_group'], patient_code['office_name'])\n",
    "patient_code.drop(['office_group'], axis = 1, inplace = True)\n",
    "patient_code['gender']=pd.to_numeric(patient_code['gender'],errors=\"coerce\")\n",
    "patient_code['gender']=patient_code['gender'].replace([1,2],[\"M\",\"F\"])\n",
    "\n",
    "patient_code.check_patient_code.fillna(\"---\",inplace=True)\n",
    "df1 = patient_code\n",
    "df1 = df1[df1.check_patient_code==\"---\"]\n"
   ]
  },
  {
   "cell_type": "code",
   "execution_count": 27,
   "id": "09d82875",
   "metadata": {},
   "outputs": [
    {
     "data": {
      "text/plain": [
       "(1085, 19)"
      ]
     },
     "execution_count": 27,
     "metadata": {},
     "output_type": "execute_result"
    },
    {
     "data": {
      "text/plain": [
       "PTME               348\n",
       "---                264\n",
       "Aucun_Programme    242\n",
       "FCI                 73\n",
       "PSYCHOSOCIAL        73\n",
       "SCHOLARISATION      41\n",
       "OVC                 23\n",
       "JARDINAGE           18\n",
       "DREAMS               3\n",
       "Name: is_caris_member, dtype: int64"
      ]
     },
     "execution_count": 27,
     "metadata": {},
     "output_type": "execute_result"
    }
   ],
   "source": [
    "df1.shape\n",
    "df1.is_caris_member.value_counts()\n"
   ]
  },
  {
   "cell_type": "code",
   "execution_count": 28,
   "id": "d06e5f79",
   "metadata": {},
   "outputs": [
    {
     "data": {
      "text/plain": [
       "F    167\n",
       "M     88\n",
       "Name: gender, dtype: int64"
      ]
     },
     "execution_count": 28,
     "metadata": {},
     "output_type": "execute_result"
    },
    {
     "data": {
      "text/plain": [
       "(264, 19)"
      ]
     },
     "execution_count": 28,
     "metadata": {},
     "output_type": "execute_result"
    },
    {
     "data": {
      "text/plain": [
       "F    687\n",
       "M    126\n",
       "Name: gender, dtype: int64"
      ]
     },
     "execution_count": 28,
     "metadata": {},
     "output_type": "execute_result"
    },
    {
     "data": {
      "text/plain": [
       "(821, 19)"
      ]
     },
     "execution_count": 28,
     "metadata": {},
     "output_type": "execute_result"
    }
   ],
   "source": [
    "pvCodeChecking_isCarisMemberMissing =df1[df1.is_caris_member==\"---\"]\n",
    "pvCodeChecking_isCarisMemberMissing.gender.value_counts()\n",
    "pvCodeChecking_isCarisMemberMissing.shape\n",
    "pvCodeChecking_withIsCarisMember = df1[df1.is_caris_member!=\"---\"]\n",
    "pvCodeChecking_withIsCarisMember.gender.value_counts()\n",
    "pvCodeChecking_withIsCarisMember.shape\n"
   ]
  },
  {
   "cell_type": "code",
   "execution_count": 29,
   "id": "dddb9c03",
   "metadata": {},
   "outputs": [
    {
     "data": {
      "text/html": [
       "<div>\n",
       "<style scoped>\n",
       "    .dataframe tbody tr th:only-of-type {\n",
       "        vertical-align: middle;\n",
       "    }\n",
       "\n",
       "    .dataframe tbody tr th {\n",
       "        vertical-align: top;\n",
       "    }\n",
       "\n",
       "    .dataframe thead th {\n",
       "        text-align: right;\n",
       "    }\n",
       "</style>\n",
       "<table border=\"1\" class=\"dataframe\">\n",
       "  <thead>\n",
       "    <tr style=\"text-align: right;\">\n",
       "      <th></th>\n",
       "      <th>caseid</th>\n",
       "      <th>is_caris_member</th>\n",
       "      <th>first_name</th>\n",
       "      <th>last_name</th>\n",
       "      <th>dob</th>\n",
       "      <th>gender</th>\n",
       "      <th>office_name</th>\n",
       "      <th>is_pvvih</th>\n",
       "      <th>patient_code_pv</th>\n",
       "      <th>check_patient_code</th>\n",
       "      <th>group_name</th>\n",
       "      <th>group_code</th>\n",
       "      <th>group_commune</th>\n",
       "      <th>group_departement</th>\n",
       "      <th>phone</th>\n",
       "      <th>inactive_date</th>\n",
       "      <th>is_abandoned</th>\n",
       "      <th>officer_name</th>\n",
       "      <th>muso_start_date</th>\n",
       "    </tr>\n",
       "  </thead>\n",
       "  <tbody>\n",
       "  </tbody>\n",
       "</table>\n",
       "</div>"
      ],
      "text/plain": [
       "Empty DataFrame\n",
       "Columns: [caseid, is_caris_member, first_name, last_name, dob, gender, office_name, is_pvvih, patient_code_pv, check_patient_code, group_name, group_code, group_commune, group_departement, phone, inactive_date, is_abandoned, officer_name, muso_start_date]\n",
       "Index: []"
      ]
     },
     "execution_count": 29,
     "metadata": {},
     "output_type": "execute_result"
    }
   ],
   "source": [
    "pvCodeChecking_isCarisMemberMissing[pvCodeChecking_isCarisMemberMissing.gender==3]\n"
   ]
  },
  {
   "cell_type": "code",
   "execution_count": 30,
   "id": "7835f92b",
   "metadata": {},
   "outputs": [],
   "source": [
    "pvCodeChecking_isCarisMemberMissing['gender'] = pvCodeChecking_isCarisMemberMissing['gender'].replace([3],['F'])\n"
   ]
  },
  {
   "cell_type": "code",
   "execution_count": 31,
   "id": "3155ac75",
   "metadata": {},
   "outputs": [
    {
     "data": {
      "text/plain": [
       "F    167\n",
       "M     88\n",
       "Name: gender, dtype: int64"
      ]
     },
     "execution_count": 31,
     "metadata": {},
     "output_type": "execute_result"
    },
    {
     "data": {
      "text/plain": [
       "(264, 19)"
      ]
     },
     "execution_count": 31,
     "metadata": {},
     "output_type": "execute_result"
    }
   ],
   "source": [
    "pvCodeChecking_isCarisMemberMissing.gender.value_counts()\n",
    "pvCodeChecking_isCarisMemberMissing.shape\n"
   ]
  },
  {
   "cell_type": "code",
   "execution_count": 32,
   "id": "4f7b2e18",
   "metadata": {},
   "outputs": [],
   "source": [
    "column_name = 'office_name'\n",
    "unique_values = pvCodeChecking_isCarisMemberMissing[column_name].unique()\n",
    "\n",
    "with pd.ExcelWriter(f\"./By_office/PV_checking_code_carisMemberMissing {str(datetime.today().strftime('%Y-%m-%d'))}.xlsx\", engine = 'openpyxl') as writer:\n",
    "    for unique_value in unique_values:\n",
    "        pvCodeChecking_isCarisMemberMissing_output = pvCodeChecking_isCarisMemberMissing[pvCodeChecking_isCarisMemberMissing[column_name].str.contains(unique_value)]\n",
    "        pvCodeChecking_isCarisMemberMissing_output.to_excel(writer, sheet_name = unique_value, index = False)\n"
   ]
  },
  {
   "cell_type": "code",
   "execution_count": 33,
   "id": "e91f9706",
   "metadata": {},
   "outputs": [],
   "source": [
    "column_name = 'office_name'\n",
    "unique_values = pvCodeChecking_withIsCarisMember[column_name].unique()\n",
    "\n",
    "with pd.ExcelWriter(f\"./By_office/PV_checking_code {str(datetime.today().strftime('%Y-%m-%d'))}.xlsx\", engine = 'openpyxl') as writer:\n",
    "    for unique_value in unique_values:\n",
    "        pvCodeChecking_withIsCarisMember_output = pvCodeChecking_withIsCarisMember[pvCodeChecking_withIsCarisMember[column_name].str.contains(unique_value)]\n",
    "        pvCodeChecking_withIsCarisMember_output.to_excel(writer, sheet_name = unique_value, index = False)\n"
   ]
  },
  {
   "cell_type": "code",
   "execution_count": 34,
   "id": "688ebb3a",
   "metadata": {},
   "outputs": [],
   "source": [
    "pvCodeChecking_withIsCarisMember.pivot_table(\n",
    "    values=\"caseid\",\n",
    "    index=\"office_name\",\n",
    "    aggfunc='count',\n",
    "    fill_value=0,\n",
    "    margins=True,\n",
    "    margins_name=\"Total\"\n",
    ").to_excel(\"resume_pvvih_code_check.xlsx\",index=True)\n"
   ]
  },
  {
   "cell_type": "code",
   "execution_count": 35,
   "id": "68799ab5",
   "metadata": {},
   "outputs": [],
   "source": [
    "pvCodeChecking_isCarisMemberMissing.pivot_table(\n",
    "    values=\"caseid\",\n",
    "    index=\"office_name\",\n",
    "    aggfunc='count',\n",
    "    fill_value=0,\n",
    "    margins=True,\n",
    "    margins_name=\"Total\"\n",
    ").to_excel(\"resume_pvvih_code_check_isCarisMemberMissing.xlsx\",index=True)\n"
   ]
  },
  {
   "cell_type": "code",
   "execution_count": 36,
   "id": "410b99c7",
   "metadata": {},
   "outputs": [],
   "source": [
    "driver.quit()\n"
   ]
  }
 ],
 "metadata": {
  "kernelspec": {
   "display_name": "Python 3.10.6 64-bit",
   "language": "python",
   "name": "python3"
  },
  "language_info": {
   "codemirror_mode": {
    "name": "ipython",
    "version": 3
   },
   "file_extension": ".py",
   "mimetype": "text/x-python",
   "name": "python",
   "nbconvert_exporter": "python",
   "pygments_lexer": "ipython3",
   "version": "3.11.7"
  },
  "vscode": {
   "interpreter": {
    "hash": "aee8b7b246df8f9039afb4144a1f6fd8d2ca17a180786b69acc140d282b71a49"
   }
  }
 },
 "nbformat": 4,
 "nbformat_minor": 5
}
